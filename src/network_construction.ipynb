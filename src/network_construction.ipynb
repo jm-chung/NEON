{
 "cells": [
  {
   "cell_type": "code",
   "execution_count": 1,
   "id": "dc79e924-d4f5-4cd6-a394-c1db09fef7c9",
   "metadata": {
    "execution": {
     "iopub.execute_input": "2024-09-02T00:32:27.601201Z",
     "iopub.status.busy": "2024-09-02T00:32:27.601201Z",
     "iopub.status.idle": "2024-09-02T00:32:28.095883Z",
     "shell.execute_reply": "2024-09-02T00:32:28.095883Z",
     "shell.execute_reply.started": "2024-09-02T00:32:27.601201Z"
    }
   },
   "outputs": [],
   "source": [
    "import pandas as pd\n",
    "import pickle\n",
    "from itertools import combinations"
   ]
  },
  {
   "cell_type": "markdown",
   "id": "fc1e696e-f79a-4c65-853e-9006bf76276e",
   "metadata": {},
   "source": [
    "# Load data"
   ]
  },
  {
   "cell_type": "code",
   "execution_count": 2,
   "id": "7018e4d0-eefd-4315-8990-62170db88529",
   "metadata": {
    "execution": {
     "iopub.execute_input": "2024-09-02T00:32:28.327454Z",
     "iopub.status.busy": "2024-09-02T00:32:28.327454Z",
     "iopub.status.idle": "2024-09-02T00:32:28.387746Z",
     "shell.execute_reply": "2024-09-02T00:32:28.387746Z",
     "shell.execute_reply.started": "2024-09-02T00:32:28.327454Z"
    }
   },
   "outputs": [
    {
     "data": {
      "text/html": [
       "<div>\n",
       "<style scoped>\n",
       "    .dataframe tbody tr th:only-of-type {\n",
       "        vertical-align: middle;\n",
       "    }\n",
       "\n",
       "    .dataframe tbody tr th {\n",
       "        vertical-align: top;\n",
       "    }\n",
       "\n",
       "    .dataframe thead th {\n",
       "        text-align: right;\n",
       "    }\n",
       "</style>\n",
       "<table border=\"1\" class=\"dataframe\">\n",
       "  <thead>\n",
       "    <tr style=\"text-align: right;\">\n",
       "      <th></th>\n",
       "      <th>paper_id</th>\n",
       "      <th>affiliation_id</th>\n",
       "      <th>topic_id</th>\n",
       "      <th>country_id</th>\n",
       "    </tr>\n",
       "  </thead>\n",
       "  <tbody>\n",
       "    <tr>\n",
       "      <th>0</th>\n",
       "      <td>0</td>\n",
       "      <td>0</td>\n",
       "      <td>-1</td>\n",
       "      <td>9</td>\n",
       "    </tr>\n",
       "    <tr>\n",
       "      <th>1</th>\n",
       "      <td>0</td>\n",
       "      <td>1</td>\n",
       "      <td>-1</td>\n",
       "      <td>9</td>\n",
       "    </tr>\n",
       "    <tr>\n",
       "      <th>2</th>\n",
       "      <td>0</td>\n",
       "      <td>2</td>\n",
       "      <td>-1</td>\n",
       "      <td>19</td>\n",
       "    </tr>\n",
       "    <tr>\n",
       "      <th>3</th>\n",
       "      <td>1</td>\n",
       "      <td>3</td>\n",
       "      <td>-1</td>\n",
       "      <td>16</td>\n",
       "    </tr>\n",
       "    <tr>\n",
       "      <th>4</th>\n",
       "      <td>2</td>\n",
       "      <td>4</td>\n",
       "      <td>-1</td>\n",
       "      <td>16</td>\n",
       "    </tr>\n",
       "  </tbody>\n",
       "</table>\n",
       "</div>"
      ],
      "text/plain": [
       "   paper_id  affiliation_id  topic_id  country_id\n",
       "0         0               0        -1           9\n",
       "1         0               1        -1           9\n",
       "2         0               2        -1          19\n",
       "3         1               3        -1          16\n",
       "4         2               4        -1          16"
      ]
     },
     "execution_count": 2,
     "metadata": {},
     "output_type": "execute_result"
    }
   ],
   "source": [
    "df = pd.read_csv('../data/preprocessed_data.csv')\n",
    "df.head()"
   ]
  },
  {
   "cell_type": "code",
   "execution_count": 3,
   "id": "7223ee23-04d0-483d-b62f-6590bf4db51e",
   "metadata": {
    "execution": {
     "iopub.execute_input": "2024-09-02T00:32:30.711540Z",
     "iopub.status.busy": "2024-09-02T00:32:30.711540Z",
     "iopub.status.idle": "2024-09-02T00:32:31.174152Z",
     "shell.execute_reply": "2024-09-02T00:32:31.173144Z",
     "shell.execute_reply.started": "2024-09-02T00:32:30.711540Z"
    }
   },
   "outputs": [
    {
     "data": {
      "text/html": [
       "<div>\n",
       "<style scoped>\n",
       "    .dataframe tbody tr th:only-of-type {\n",
       "        vertical-align: middle;\n",
       "    }\n",
       "\n",
       "    .dataframe tbody tr th {\n",
       "        vertical-align: top;\n",
       "    }\n",
       "\n",
       "    .dataframe thead th {\n",
       "        text-align: right;\n",
       "    }\n",
       "</style>\n",
       "<table border=\"1\" class=\"dataframe\">\n",
       "  <thead>\n",
       "    <tr style=\"text-align: right;\">\n",
       "      <th></th>\n",
       "      <th>paper_id</th>\n",
       "      <th>Publication Type</th>\n",
       "      <th>Authors</th>\n",
       "      <th>Book Authors</th>\n",
       "      <th>Book Editors</th>\n",
       "      <th>Book Group Authors</th>\n",
       "      <th>Author Full Names</th>\n",
       "      <th>Book Author Full Names</th>\n",
       "      <th>Group Authors</th>\n",
       "      <th>Article Title</th>\n",
       "      <th>...</th>\n",
       "      <th>Web of Science Index</th>\n",
       "      <th>Research Areas</th>\n",
       "      <th>IDS Number</th>\n",
       "      <th>Pubmed Id</th>\n",
       "      <th>Open Access Designations</th>\n",
       "      <th>Highly Cited Status</th>\n",
       "      <th>Hot Paper Status</th>\n",
       "      <th>Date of Export</th>\n",
       "      <th>UT (Unique WOS ID)</th>\n",
       "      <th>Web of Science Record</th>\n",
       "    </tr>\n",
       "  </thead>\n",
       "  <tbody>\n",
       "    <tr>\n",
       "      <th>0</th>\n",
       "      <td>0</td>\n",
       "      <td>J</td>\n",
       "      <td>Pickering, B; Lombardi, F; Pfenninger, S</td>\n",
       "      <td>NaN</td>\n",
       "      <td>NaN</td>\n",
       "      <td>NaN</td>\n",
       "      <td>Pickering, Bryn; Lombardi, Francesco; Pfenning...</td>\n",
       "      <td>NaN</td>\n",
       "      <td>NaN</td>\n",
       "      <td>Diversity of options to eliminate fossil fuels...</td>\n",
       "      <td>...</td>\n",
       "      <td>Science Citation Index Expanded (SCI-EXPANDED)</td>\n",
       "      <td>Chemistry; Energy &amp; Fuels; Materials Science</td>\n",
       "      <td>2U9AT</td>\n",
       "      <td>35784823.0</td>\n",
       "      <td>Green Published, hybrid</td>\n",
       "      <td>NaN</td>\n",
       "      <td>NaN</td>\n",
       "      <td>2023-10-31</td>\n",
       "      <td>WOS:000823446500009</td>\n",
       "      <td>0</td>\n",
       "    </tr>\n",
       "    <tr>\n",
       "      <th>1</th>\n",
       "      <td>1</td>\n",
       "      <td>J</td>\n",
       "      <td>Fang, SM; Li, JD; Xu, Y; Shen, C; Guo, WL</td>\n",
       "      <td>NaN</td>\n",
       "      <td>NaN</td>\n",
       "      <td>NaN</td>\n",
       "      <td>Fang, Sunmiao; Li, Jidong; Xu, Ying; Shen, Chu...</td>\n",
       "      <td>NaN</td>\n",
       "      <td>NaN</td>\n",
       "      <td>Evaporating potential</td>\n",
       "      <td>...</td>\n",
       "      <td>Science Citation Index Expanded (SCI-EXPANDED)</td>\n",
       "      <td>Chemistry; Energy &amp; Fuels; Materials Science</td>\n",
       "      <td>ZZ3XE</td>\n",
       "      <td>NaN</td>\n",
       "      <td>hybrid, Green Submitted</td>\n",
       "      <td>NaN</td>\n",
       "      <td>NaN</td>\n",
       "      <td>2023-10-31</td>\n",
       "      <td>WOS:000773205200014</td>\n",
       "      <td>0</td>\n",
       "    </tr>\n",
       "    <tr>\n",
       "      <th>2</th>\n",
       "      <td>2</td>\n",
       "      <td>J</td>\n",
       "      <td>Chen, ZY; Song, W; Yu, KB; Ge, JF; Zhang, JS; ...</td>\n",
       "      <td>NaN</td>\n",
       "      <td>NaN</td>\n",
       "      <td>NaN</td>\n",
       "      <td>Chen, Zhenyu; Song, Wei; Yu, Kuibao; Ge, Jinfe...</td>\n",
       "      <td>NaN</td>\n",
       "      <td>NaN</td>\n",
       "      <td>Small-molecular donor guest achieves rigid 18....</td>\n",
       "      <td>...</td>\n",
       "      <td>Science Citation Index Expanded (SCI-EXPANDED)</td>\n",
       "      <td>Chemistry; Energy &amp; Fuels; Materials Science</td>\n",
       "      <td>UR6JW</td>\n",
       "      <td>NaN</td>\n",
       "      <td>hybrid</td>\n",
       "      <td>NaN</td>\n",
       "      <td>NaN</td>\n",
       "      <td>2023-10-31</td>\n",
       "      <td>WOS:000696854300013</td>\n",
       "      <td>0</td>\n",
       "    </tr>\n",
       "    <tr>\n",
       "      <th>3</th>\n",
       "      <td>3</td>\n",
       "      <td>J</td>\n",
       "      <td>Zai, HC; Su, J; Zhu, C; Chen, YH; Ma, Y; Zhang...</td>\n",
       "      <td>NaN</td>\n",
       "      <td>NaN</td>\n",
       "      <td>NaN</td>\n",
       "      <td>Zai, Huachao; Su, Jie; Zhu, Cheng; Chen, Yihua...</td>\n",
       "      <td>NaN</td>\n",
       "      <td>NaN</td>\n",
       "      <td>Sandwiched electrode buffer for efficient and ...</td>\n",
       "      <td>...</td>\n",
       "      <td>Science Citation Index Expanded (SCI-EXPANDED)</td>\n",
       "      <td>Chemistry; Energy &amp; Fuels; Materials Science</td>\n",
       "      <td>UC5CP</td>\n",
       "      <td>NaN</td>\n",
       "      <td>hybrid</td>\n",
       "      <td>NaN</td>\n",
       "      <td>NaN</td>\n",
       "      <td>2023-10-31</td>\n",
       "      <td>WOS:000686543600018</td>\n",
       "      <td>0</td>\n",
       "    </tr>\n",
       "    <tr>\n",
       "      <th>4</th>\n",
       "      <td>4</td>\n",
       "      <td>J</td>\n",
       "      <td>Zhang, CG; He, LX; Zhou, LL; Yang, O; Yuan, W;...</td>\n",
       "      <td>NaN</td>\n",
       "      <td>NaN</td>\n",
       "      <td>NaN</td>\n",
       "      <td>Zhang, Chuguo; He, Lixia; Zhou, Linglin; Yang,...</td>\n",
       "      <td>NaN</td>\n",
       "      <td>NaN</td>\n",
       "      <td>Active resonance triboelectric nanogenerator f...</td>\n",
       "      <td>...</td>\n",
       "      <td>Science Citation Index Expanded (SCI-EXPANDED)</td>\n",
       "      <td>Chemistry; Energy &amp; Fuels; Materials Science</td>\n",
       "      <td>SU3GI</td>\n",
       "      <td>NaN</td>\n",
       "      <td>hybrid</td>\n",
       "      <td>Y</td>\n",
       "      <td>N</td>\n",
       "      <td>2023-10-31</td>\n",
       "      <td>WOS:000663028600023</td>\n",
       "      <td>0</td>\n",
       "    </tr>\n",
       "  </tbody>\n",
       "</table>\n",
       "<p>5 rows × 73 columns</p>\n",
       "</div>"
      ],
      "text/plain": [
       "   paper_id Publication Type  \\\n",
       "0         0                J   \n",
       "1         1                J   \n",
       "2         2                J   \n",
       "3         3                J   \n",
       "4         4                J   \n",
       "\n",
       "                                             Authors  Book Authors  \\\n",
       "0           Pickering, B; Lombardi, F; Pfenninger, S           NaN   \n",
       "1          Fang, SM; Li, JD; Xu, Y; Shen, C; Guo, WL           NaN   \n",
       "2  Chen, ZY; Song, W; Yu, KB; Ge, JF; Zhang, JS; ...           NaN   \n",
       "3  Zai, HC; Su, J; Zhu, C; Chen, YH; Ma, Y; Zhang...           NaN   \n",
       "4  Zhang, CG; He, LX; Zhou, LL; Yang, O; Yuan, W;...           NaN   \n",
       "\n",
       "   Book Editors  Book Group Authors  \\\n",
       "0           NaN                 NaN   \n",
       "1           NaN                 NaN   \n",
       "2           NaN                 NaN   \n",
       "3           NaN                 NaN   \n",
       "4           NaN                 NaN   \n",
       "\n",
       "                                   Author Full Names  Book Author Full Names  \\\n",
       "0  Pickering, Bryn; Lombardi, Francesco; Pfenning...                     NaN   \n",
       "1  Fang, Sunmiao; Li, Jidong; Xu, Ying; Shen, Chu...                     NaN   \n",
       "2  Chen, Zhenyu; Song, Wei; Yu, Kuibao; Ge, Jinfe...                     NaN   \n",
       "3  Zai, Huachao; Su, Jie; Zhu, Cheng; Chen, Yihua...                     NaN   \n",
       "4  Zhang, Chuguo; He, Lixia; Zhou, Linglin; Yang,...                     NaN   \n",
       "\n",
       "  Group Authors                                      Article Title  ...  \\\n",
       "0           NaN  Diversity of options to eliminate fossil fuels...  ...   \n",
       "1           NaN                              Evaporating potential  ...   \n",
       "2           NaN  Small-molecular donor guest achieves rigid 18....  ...   \n",
       "3           NaN  Sandwiched electrode buffer for efficient and ...  ...   \n",
       "4           NaN  Active resonance triboelectric nanogenerator f...  ...   \n",
       "\n",
       "                             Web of Science Index  \\\n",
       "0  Science Citation Index Expanded (SCI-EXPANDED)   \n",
       "1  Science Citation Index Expanded (SCI-EXPANDED)   \n",
       "2  Science Citation Index Expanded (SCI-EXPANDED)   \n",
       "3  Science Citation Index Expanded (SCI-EXPANDED)   \n",
       "4  Science Citation Index Expanded (SCI-EXPANDED)   \n",
       "\n",
       "                                 Research Areas  IDS Number   Pubmed Id  \\\n",
       "0  Chemistry; Energy & Fuels; Materials Science       2U9AT  35784823.0   \n",
       "1  Chemistry; Energy & Fuels; Materials Science       ZZ3XE         NaN   \n",
       "2  Chemistry; Energy & Fuels; Materials Science       UR6JW         NaN   \n",
       "3  Chemistry; Energy & Fuels; Materials Science       UC5CP         NaN   \n",
       "4  Chemistry; Energy & Fuels; Materials Science       SU3GI         NaN   \n",
       "\n",
       "  Open Access Designations Highly Cited Status Hot Paper Status  \\\n",
       "0  Green Published, hybrid                 NaN              NaN   \n",
       "1  hybrid, Green Submitted                 NaN              NaN   \n",
       "2                   hybrid                 NaN              NaN   \n",
       "3                   hybrid                 NaN              NaN   \n",
       "4                   hybrid                   Y                N   \n",
       "\n",
       "  Date of Export   UT (Unique WOS ID) Web of Science Record  \n",
       "0     2023-10-31  WOS:000823446500009                     0  \n",
       "1     2023-10-31  WOS:000773205200014                     0  \n",
       "2     2023-10-31  WOS:000696854300013                     0  \n",
       "3     2023-10-31  WOS:000686543600018                     0  \n",
       "4     2023-10-31  WOS:000663028600023                     0  \n",
       "\n",
       "[5 rows x 73 columns]"
      ]
     },
     "execution_count": 3,
     "metadata": {},
     "output_type": "execute_result"
    }
   ],
   "source": [
    "with open('../data/papers_with_pid.pkl', 'rb') as f:\n",
    "    df_papers = pickle.load(f)\n",
    "df_papers.head()"
   ]
  },
  {
   "cell_type": "code",
   "execution_count": 4,
   "id": "37fa24f3-c0dc-427b-ba88-cfc5faecdae8",
   "metadata": {
    "execution": {
     "iopub.execute_input": "2024-09-02T00:32:46.952186Z",
     "iopub.status.busy": "2024-09-02T00:32:46.951148Z",
     "iopub.status.idle": "2024-09-02T00:32:46.956506Z",
     "shell.execute_reply": "2024-09-02T00:32:46.956506Z",
     "shell.execute_reply.started": "2024-09-02T00:32:46.952186Z"
    }
   },
   "outputs": [
    {
     "data": {
      "text/plain": [
       "Index(['paper_id', 'Publication Type', 'Authors', 'Book Authors',\n",
       "       'Book Editors', 'Book Group Authors', 'Author Full Names',\n",
       "       'Book Author Full Names', 'Group Authors', 'Article Title',\n",
       "       'Source Title', 'Book Series Title', 'Book Series Subtitle', 'Language',\n",
       "       'Document Type', 'Conference Title', 'Conference Date',\n",
       "       'Conference Location', 'Conference Sponsor', 'Conference Host',\n",
       "       'Author Keywords', 'Keywords Plus', 'Abstract', 'Addresses',\n",
       "       'Affiliations', 'Reprint Addresses', 'Email Addresses',\n",
       "       'Researcher Ids', 'ORCIDs', 'Funding Orgs', 'Funding Name Preferred',\n",
       "       'Funding Text', 'Cited References', 'Cited Reference Count',\n",
       "       'Times Cited, WoS Core', 'Times Cited, All Databases',\n",
       "       '180 Day Usage Count', 'Since 2013 Usage Count', 'Publisher',\n",
       "       'Publisher City', 'Publisher Address', 'ISSN', 'eISSN', 'ISBN',\n",
       "       'Journal Abbreviation', 'Journal ISO Abbreviation', 'Publication Date',\n",
       "       'Publication Year', 'Volume', 'Issue', 'Part Number', 'Supplement',\n",
       "       'Special Issue', 'Meeting Abstract', 'Start Page', 'End Page',\n",
       "       'Article Number', 'DOI', 'DOI Link', 'Book DOI', 'Early Access Date',\n",
       "       'Number of Pages', 'WoS Categories', 'Web of Science Index',\n",
       "       'Research Areas', 'IDS Number', 'Pubmed Id', 'Open Access Designations',\n",
       "       'Highly Cited Status', 'Hot Paper Status', 'Date of Export',\n",
       "       'UT (Unique WOS ID)', 'Web of Science Record'],\n",
       "      dtype='object')"
      ]
     },
     "execution_count": 4,
     "metadata": {},
     "output_type": "execute_result"
    }
   ],
   "source": [
    "df_papers.columns"
   ]
  },
  {
   "cell_type": "code",
   "execution_count": 5,
   "id": "12271c86-f22d-43d0-8dcd-761ec64d3365",
   "metadata": {
    "execution": {
     "iopub.execute_input": "2024-09-02T00:32:49.919563Z",
     "iopub.status.busy": "2024-09-02T00:32:49.918567Z",
     "iopub.status.idle": "2024-09-02T00:32:50.092247Z",
     "shell.execute_reply": "2024-09-02T00:32:50.092247Z",
     "shell.execute_reply.started": "2024-09-02T00:32:49.919563Z"
    }
   },
   "outputs": [],
   "source": [
    "df_papers['Publication Month'] = [d.split()[0] for d in df_papers['Publication Date']]\n",
    "\n",
    "df_former = df_papers.loc[df_papers['Publication Year'].isin((2018, 2019))]\n",
    "df_former = pd.concat([df_former, df_papers.loc[df_papers['Publication Year']==2020].loc[df_papers['Publication Month'].isin(['JAN','FEB','MAR','APR','MAY','JUN'])]])\n",
    "\n",
    "df_latter = df_papers.loc[df_papers['Publication Year'].isin((2021, 2022))]\n",
    "df_latter = pd.concat([df_latter, df_papers.loc[df_papers['Publication Year']==2020].loc[df_papers['Publication Month'].isin(['JUL','AUG','SEP','OCT','NOV','DEC'])]])"
   ]
  },
  {
   "cell_type": "markdown",
   "id": "b6036c97-9825-4fe5-9a98-7e185be2549c",
   "metadata": {},
   "source": [
    "# Network construction for Period 1"
   ]
  },
  {
   "cell_type": "code",
   "execution_count": 6,
   "id": "53d21d46-0517-4a5c-be7d-59f2b162b5a4",
   "metadata": {
    "execution": {
     "iopub.execute_input": "2024-09-02T00:33:12.154215Z",
     "iopub.status.busy": "2024-09-02T00:33:12.154215Z",
     "iopub.status.idle": "2024-09-02T00:33:12.162603Z",
     "shell.execute_reply": "2024-09-02T00:33:12.162603Z",
     "shell.execute_reply.started": "2024-09-02T00:33:12.154215Z"
    }
   },
   "outputs": [],
   "source": [
    "df_f = df.loc[df.paper_id.isin(df_former.paper_id)]"
   ]
  },
  {
   "cell_type": "code",
   "execution_count": 7,
   "id": "c1dcd0c4-83c3-4467-9891-fe464612db12",
   "metadata": {
    "execution": {
     "iopub.execute_input": "2024-09-02T00:33:13.016323Z",
     "iopub.status.busy": "2024-09-02T00:33:13.016323Z",
     "iopub.status.idle": "2024-09-02T00:33:13.024091Z",
     "shell.execute_reply": "2024-09-02T00:33:13.023578Z",
     "shell.execute_reply.started": "2024-09-02T00:33:13.016323Z"
    }
   },
   "outputs": [
    {
     "data": {
      "text/html": [
       "<div>\n",
       "<style scoped>\n",
       "    .dataframe tbody tr th:only-of-type {\n",
       "        vertical-align: middle;\n",
       "    }\n",
       "\n",
       "    .dataframe tbody tr th {\n",
       "        vertical-align: top;\n",
       "    }\n",
       "\n",
       "    .dataframe thead th {\n",
       "        text-align: right;\n",
       "    }\n",
       "</style>\n",
       "<table border=\"1\" class=\"dataframe\">\n",
       "  <thead>\n",
       "    <tr style=\"text-align: right;\">\n",
       "      <th></th>\n",
       "      <th>paper_id</th>\n",
       "      <th>affiliation_id</th>\n",
       "      <th>topic_id</th>\n",
       "      <th>country_id</th>\n",
       "    </tr>\n",
       "  </thead>\n",
       "  <tbody>\n",
       "    <tr>\n",
       "      <th>32</th>\n",
       "      <td>8</td>\n",
       "      <td>24</td>\n",
       "      <td>0</td>\n",
       "      <td>3</td>\n",
       "    </tr>\n",
       "    <tr>\n",
       "      <th>33</th>\n",
       "      <td>8</td>\n",
       "      <td>24</td>\n",
       "      <td>0</td>\n",
       "      <td>3</td>\n",
       "    </tr>\n",
       "    <tr>\n",
       "      <th>34</th>\n",
       "      <td>8</td>\n",
       "      <td>22</td>\n",
       "      <td>0</td>\n",
       "      <td>3</td>\n",
       "    </tr>\n",
       "    <tr>\n",
       "      <th>35</th>\n",
       "      <td>8</td>\n",
       "      <td>25</td>\n",
       "      <td>0</td>\n",
       "      <td>3</td>\n",
       "    </tr>\n",
       "    <tr>\n",
       "      <th>36</th>\n",
       "      <td>8</td>\n",
       "      <td>24</td>\n",
       "      <td>0</td>\n",
       "      <td>3</td>\n",
       "    </tr>\n",
       "    <tr>\n",
       "      <th>...</th>\n",
       "      <td>...</td>\n",
       "      <td>...</td>\n",
       "      <td>...</td>\n",
       "      <td>...</td>\n",
       "    </tr>\n",
       "    <tr>\n",
       "      <th>281712</th>\n",
       "      <td>94198</td>\n",
       "      <td>277</td>\n",
       "      <td>30</td>\n",
       "      <td>102</td>\n",
       "    </tr>\n",
       "    <tr>\n",
       "      <th>281713</th>\n",
       "      <td>94198</td>\n",
       "      <td>146</td>\n",
       "      <td>30</td>\n",
       "      <td>3</td>\n",
       "    </tr>\n",
       "    <tr>\n",
       "      <th>281714</th>\n",
       "      <td>94198</td>\n",
       "      <td>147</td>\n",
       "      <td>30</td>\n",
       "      <td>3</td>\n",
       "    </tr>\n",
       "    <tr>\n",
       "      <th>281715</th>\n",
       "      <td>94198</td>\n",
       "      <td>3664</td>\n",
       "      <td>30</td>\n",
       "      <td>102</td>\n",
       "    </tr>\n",
       "    <tr>\n",
       "      <th>281716</th>\n",
       "      <td>94198</td>\n",
       "      <td>3318</td>\n",
       "      <td>30</td>\n",
       "      <td>102</td>\n",
       "    </tr>\n",
       "  </tbody>\n",
       "</table>\n",
       "<p>118466 rows × 4 columns</p>\n",
       "</div>"
      ],
      "text/plain": [
       "        paper_id  affiliation_id  topic_id  country_id\n",
       "32             8              24         0           3\n",
       "33             8              24         0           3\n",
       "34             8              22         0           3\n",
       "35             8              25         0           3\n",
       "36             8              24         0           3\n",
       "...          ...             ...       ...         ...\n",
       "281712     94198             277        30         102\n",
       "281713     94198             146        30           3\n",
       "281714     94198             147        30           3\n",
       "281715     94198            3664        30         102\n",
       "281716     94198            3318        30         102\n",
       "\n",
       "[118466 rows x 4 columns]"
      ]
     },
     "execution_count": 7,
     "metadata": {},
     "output_type": "execute_result"
    }
   ],
   "source": [
    "df_f"
   ]
  },
  {
   "cell_type": "code",
   "execution_count": 8,
   "id": "3a3ba25e-3c65-4002-9576-74027291bc02",
   "metadata": {
    "execution": {
     "iopub.execute_input": "2024-09-02T00:33:15.912195Z",
     "iopub.status.busy": "2024-09-02T00:33:15.911198Z",
     "iopub.status.idle": "2024-09-02T00:33:15.942558Z",
     "shell.execute_reply": "2024-09-02T00:33:15.942558Z",
     "shell.execute_reply.started": "2024-09-02T00:33:15.912195Z"
    }
   },
   "outputs": [],
   "source": [
    "nodes_f = []\n",
    "nodes_f += [f't{i}' for i in df_f.topic_id.unique()]\n",
    "nodes_f += [f'p{i}' for i in df_f.paper_id.unique()]\n",
    "nodes_f += [f'f{i}' for i in df_f.affiliation_id.unique()]\n",
    "nodes_f += [f'c{i}' for i in df_f.country_id.unique()]\n",
    "\n",
    "node2idx_f = {node: idx for idx, node in enumerate(nodes_f)}\n",
    "idx2node_f = {idx: node for node, idx in node2idx_f.items()}"
   ]
  },
  {
   "cell_type": "code",
   "execution_count": 9,
   "id": "536313c7-9c61-428d-9d2b-0e5ac3d00b47",
   "metadata": {
    "execution": {
     "iopub.execute_input": "2024-09-02T00:33:16.959855Z",
     "iopub.status.busy": "2024-09-02T00:33:16.959855Z",
     "iopub.status.idle": "2024-09-02T00:33:16.964077Z",
     "shell.execute_reply": "2024-09-02T00:33:16.964077Z",
     "shell.execute_reply.started": "2024-09-02T00:33:16.959855Z"
    }
   },
   "outputs": [],
   "source": [
    "edges = ['topic_paper', 'topic_affiliation', 'topic_country', \n",
    "         'paper_affiliation', 'paper_country', \n",
    "         'affiliation_affiliation', 'affiliation_country',\n",
    "         'country_country']\n",
    "edge2idx = {edge: idx for idx, edge in enumerate(edges)}\n",
    "idx2edge = {idx: edge for edge, idx in edge2idx.items()}"
   ]
  },
  {
   "cell_type": "code",
   "execution_count": 10,
   "id": "f6d90577-5775-488e-98fb-ee616df4e768",
   "metadata": {
    "execution": {
     "iopub.execute_input": "2024-09-02T00:33:18.736099Z",
     "iopub.status.busy": "2024-09-02T00:33:18.735103Z",
     "iopub.status.idle": "2024-09-02T00:33:25.612979Z",
     "shell.execute_reply": "2024-09-02T00:33:25.612979Z",
     "shell.execute_reply.started": "2024-09-02T00:33:18.736099Z"
    }
   },
   "outputs": [],
   "source": [
    "df_paper_aff = df_f[['paper_id', 'affiliation_id']].drop_duplicates()\n",
    "collab = [list(df_paper_aff.loc[df_paper_aff.paper_id==p_id].affiliation_id) for p_id in df_paper_aff.paper_id.unique()]\n",
    "\n",
    "collab_dict = {}\n",
    "for i, c in enumerate(collab):\n",
    "    if len(c)>=2:\n",
    "        for comb in list(combinations(c, 2)):\n",
    "            if comb in collab_dict.keys():\n",
    "                collab_dict[comb] += 1\n",
    "            else:\n",
    "                collab_dict[comb] = 1"
   ]
  },
  {
   "cell_type": "code",
   "execution_count": 11,
   "id": "f002762e-7d61-4dbd-8a2c-1c66367eb672",
   "metadata": {
    "execution": {
     "iopub.execute_input": "2024-09-02T00:33:25.863719Z",
     "iopub.status.busy": "2024-09-02T00:33:25.863719Z",
     "iopub.status.idle": "2024-09-02T00:33:32.217325Z",
     "shell.execute_reply": "2024-09-02T00:33:32.217325Z",
     "shell.execute_reply.started": "2024-09-02T00:33:25.863719Z"
    }
   },
   "outputs": [],
   "source": [
    "df_paper_cntr = df_f[['paper_id', 'country_id']].drop_duplicates()\n",
    "collab = [list(df_paper_cntr.loc[df_paper_cntr.paper_id==p_id].country_id) for p_id in df_paper_cntr.paper_id.unique()]\n",
    "\n",
    "cntr_collab_dict = {}\n",
    "for i, c in enumerate(collab):\n",
    "    if len(c)>=2:\n",
    "        for comb in list(combinations(c, 2)):\n",
    "            if comb in cntr_collab_dict.keys():\n",
    "                cntr_collab_dict[comb] += 1\n",
    "            else:\n",
    "                cntr_collab_dict[comb] = 1"
   ]
  },
  {
   "cell_type": "code",
   "execution_count": 12,
   "id": "006d2de1-0aa2-4180-b55e-2eea781ad5c1",
   "metadata": {
    "execution": {
     "iopub.execute_input": "2024-09-02T00:33:32.217829Z",
     "iopub.status.busy": "2024-09-02T00:33:32.217829Z",
     "iopub.status.idle": "2024-09-02T00:33:33.060413Z",
     "shell.execute_reply": "2024-09-02T00:33:33.059871Z",
     "shell.execute_reply.started": "2024-09-02T00:33:32.217829Z"
    }
   },
   "outputs": [],
   "source": [
    "network = []\n",
    "for i, (tid, pid) in enumerate(df_f[['topic_id', 'paper_id']].drop_duplicates().values):\n",
    "    network.append([node2idx_f[f't{tid}'], edge2idx['topic_paper'], node2idx_f[f'p{pid}']])\n",
    "    \n",
    "for i, (tid, fid) in enumerate(df_f[['topic_id', 'paper_id', 'affiliation_id']].drop_duplicates()[['topic_id', 'affiliation_id']].values):\n",
    "    network.append([node2idx_f[f't{tid}'], edge2idx['topic_affiliation'], node2idx_f[f'f{fid}']])\n",
    "\n",
    "for i, (tid, cid) in enumerate(df_f[['topic_id', 'paper_id', 'affiliation_id', 'country_id']].drop_duplicates()[['topic_id', 'country_id']].values):\n",
    "    network.append([node2idx_f[f't{tid}'], edge2idx['topic_country'], node2idx_f[f'c{cid}']])\n",
    "    \n",
    "for i, (pid, fid) in enumerate(df_f[['paper_id', 'affiliation_id']].drop_duplicates().values):\n",
    "    network.append([node2idx_f[f'p{pid}'], edge2idx['paper_affiliation'], node2idx_f[f'f{fid}']])\n",
    "    \n",
    "for i, (pid, cid) in enumerate(df_f[['paper_id', 'country_id']].drop_duplicates().values):\n",
    "    network.append([node2idx_f[f'p{pid}'], edge2idx['paper_country'], node2idx_f[f'c{cid}']])\n",
    "\n",
    "for k, v in collab_dict.items():\n",
    "    for _ in range(v):\n",
    "        network.append([node2idx_f[f'f{k[0]}'], edge2idx['affiliation_affiliation'], node2idx_f[f'f{k[1]}']])\n",
    "\n",
    "for i, (fid, cid) in enumerate(df_f[['affiliation_id', 'country_id']].drop_duplicates().values):\n",
    "    network.append([node2idx_f[f'f{fid}'], edge2idx['affiliation_country'], node2idx_f[f'c{cid}']])\n",
    "    \n",
    "for k, v in cntr_collab_dict.items():\n",
    "    for _ in range(v):\n",
    "        network.append([node2idx_f[f'c{k[0]}'], edge2idx['country_country'], node2idx_f[f'c{k[1]}']])"
   ]
  },
  {
   "cell_type": "code",
   "execution_count": 13,
   "id": "8bc41796-0ebd-4b33-8e47-addfc85075a6",
   "metadata": {
    "execution": {
     "iopub.execute_input": "2024-09-02T00:33:36.790682Z",
     "iopub.status.busy": "2024-09-02T00:33:36.790682Z",
     "iopub.status.idle": "2024-09-02T00:33:37.359424Z",
     "shell.execute_reply": "2024-09-02T00:33:37.359424Z",
     "shell.execute_reply.started": "2024-09-02T00:33:36.790682Z"
    }
   },
   "outputs": [],
   "source": [
    "# Data for TransE\n",
    "pd.DataFrame(network).to_csv('../data/network_with_edge_p1.txt', index=False, header=False, sep='\\t')"
   ]
  },
  {
   "cell_type": "code",
   "execution_count": 14,
   "id": "37f46834-572b-40d5-ac44-c39a36ee0bfe",
   "metadata": {
    "execution": {
     "iopub.execute_input": "2024-09-02T00:33:37.638751Z",
     "iopub.status.busy": "2024-09-02T00:33:37.638751Z",
     "iopub.status.idle": "2024-09-02T00:33:38.380642Z",
     "shell.execute_reply": "2024-09-02T00:33:38.380642Z",
     "shell.execute_reply.started": "2024-09-02T00:33:37.638751Z"
    }
   },
   "outputs": [],
   "source": [
    "# Data for DeepWalk and Node2Vec\n",
    "network_wo_links = [[n[0], n[2]] for n in network]\n",
    "pd.DataFrame(network_wo_links).to_csv('../data/network_without_edge_p1.txt', index=False, header=False, sep='\\t')"
   ]
  },
  {
   "cell_type": "markdown",
   "id": "c9a2f02b-1791-43b3-9e21-d4af4de4af2c",
   "metadata": {},
   "source": [
    "# Network construction for Period 2\n",
    "* The topics for documents in Period 2 should be inferred.\n",
    "  * ../data/bertopic_topics_for_p2.pkl: inferred topics and probabilities for each documents in Preiod 2. the file contains two dictionaries: {paper_id: topic_id}, {paper_id: probability}"
   ]
  },
  {
   "cell_type": "code",
   "execution_count": 16,
   "id": "9f935b10-190a-4104-a7b7-5b397a930d39",
   "metadata": {
    "execution": {
     "iopub.execute_input": "2024-09-02T00:34:35.527272Z",
     "iopub.status.busy": "2024-09-02T00:34:35.527272Z",
     "iopub.status.idle": "2024-09-02T00:34:36.110850Z",
     "shell.execute_reply": "2024-09-02T00:34:36.110850Z",
     "shell.execute_reply.started": "2024-09-02T00:34:35.527272Z"
    }
   },
   "outputs": [
    {
     "name": "stderr",
     "output_type": "stream",
     "text": [
      "C:\\Users\\admin\\AppData\\Local\\Temp\\ipykernel_32916\\3623739082.py:4: SettingWithCopyWarning: \n",
      "A value is trying to be set on a copy of a slice from a DataFrame.\n",
      "Try using .loc[row_indexer,col_indexer] = value instead\n",
      "\n",
      "See the caveats in the documentation: https://pandas.pydata.org/pandas-docs/stable/user_guide/indexing.html#returning-a-view-versus-a-copy\n",
      "  df_l['topic_id'] = [pid2topic[pid] for pid in df_l.paper_id]\n"
     ]
    }
   ],
   "source": [
    "df_l = df.loc[df.paper_id.isin(df_latter.paper_id)]\n",
    "\n",
    "pid2topic, pid2prob = pd.read_pickle('../data/bertopic_topics_for_p2.pkl')\n",
    "df_l['topic_id'] = [pid2topic[pid] for pid in df_l.paper_id]\n",
    "\n",
    "df_l = df_l.loc[df_l.topic_id!=-1]"
   ]
  },
  {
   "cell_type": "code",
   "execution_count": 17,
   "id": "3e7e3abb-302b-4822-a5d3-0c7096dab95c",
   "metadata": {
    "execution": {
     "iopub.execute_input": "2024-09-02T00:34:38.223433Z",
     "iopub.status.busy": "2024-09-02T00:34:38.223433Z",
     "iopub.status.idle": "2024-09-02T00:34:38.231143Z",
     "shell.execute_reply": "2024-09-02T00:34:38.231143Z",
     "shell.execute_reply.started": "2024-09-02T00:34:38.223433Z"
    }
   },
   "outputs": [
    {
     "data": {
      "text/html": [
       "<div>\n",
       "<style scoped>\n",
       "    .dataframe tbody tr th:only-of-type {\n",
       "        vertical-align: middle;\n",
       "    }\n",
       "\n",
       "    .dataframe tbody tr th {\n",
       "        vertical-align: top;\n",
       "    }\n",
       "\n",
       "    .dataframe thead th {\n",
       "        text-align: right;\n",
       "    }\n",
       "</style>\n",
       "<table border=\"1\" class=\"dataframe\">\n",
       "  <thead>\n",
       "    <tr style=\"text-align: right;\">\n",
       "      <th></th>\n",
       "      <th>paper_id</th>\n",
       "      <th>affiliation_id</th>\n",
       "      <th>topic_id</th>\n",
       "      <th>country_id</th>\n",
       "    </tr>\n",
       "  </thead>\n",
       "  <tbody>\n",
       "    <tr>\n",
       "      <th>0</th>\n",
       "      <td>0</td>\n",
       "      <td>0</td>\n",
       "      <td>1</td>\n",
       "      <td>9</td>\n",
       "    </tr>\n",
       "    <tr>\n",
       "      <th>1</th>\n",
       "      <td>0</td>\n",
       "      <td>1</td>\n",
       "      <td>1</td>\n",
       "      <td>9</td>\n",
       "    </tr>\n",
       "    <tr>\n",
       "      <th>2</th>\n",
       "      <td>0</td>\n",
       "      <td>2</td>\n",
       "      <td>1</td>\n",
       "      <td>19</td>\n",
       "    </tr>\n",
       "    <tr>\n",
       "      <th>3</th>\n",
       "      <td>1</td>\n",
       "      <td>3</td>\n",
       "      <td>57</td>\n",
       "      <td>16</td>\n",
       "    </tr>\n",
       "    <tr>\n",
       "      <th>4</th>\n",
       "      <td>2</td>\n",
       "      <td>4</td>\n",
       "      <td>9</td>\n",
       "      <td>16</td>\n",
       "    </tr>\n",
       "    <tr>\n",
       "      <th>...</th>\n",
       "      <td>...</td>\n",
       "      <td>...</td>\n",
       "      <td>...</td>\n",
       "      <td>...</td>\n",
       "    </tr>\n",
       "    <tr>\n",
       "      <th>281625</th>\n",
       "      <td>94183</td>\n",
       "      <td>545</td>\n",
       "      <td>5</td>\n",
       "      <td>14</td>\n",
       "    </tr>\n",
       "    <tr>\n",
       "      <th>281626</th>\n",
       "      <td>94183</td>\n",
       "      <td>4445</td>\n",
       "      <td>5</td>\n",
       "      <td>1</td>\n",
       "    </tr>\n",
       "    <tr>\n",
       "      <th>281627</th>\n",
       "      <td>94183</td>\n",
       "      <td>6038</td>\n",
       "      <td>5</td>\n",
       "      <td>14</td>\n",
       "    </tr>\n",
       "    <tr>\n",
       "      <th>281628</th>\n",
       "      <td>94183</td>\n",
       "      <td>62</td>\n",
       "      <td>5</td>\n",
       "      <td>77</td>\n",
       "    </tr>\n",
       "    <tr>\n",
       "      <th>281629</th>\n",
       "      <td>94183</td>\n",
       "      <td>1483</td>\n",
       "      <td>5</td>\n",
       "      <td>14</td>\n",
       "    </tr>\n",
       "  </tbody>\n",
       "</table>\n",
       "<p>152092 rows × 4 columns</p>\n",
       "</div>"
      ],
      "text/plain": [
       "        paper_id  affiliation_id  topic_id  country_id\n",
       "0              0               0         1           9\n",
       "1              0               1         1           9\n",
       "2              0               2         1          19\n",
       "3              1               3        57          16\n",
       "4              2               4         9          16\n",
       "...          ...             ...       ...         ...\n",
       "281625     94183             545         5          14\n",
       "281626     94183            4445         5           1\n",
       "281627     94183            6038         5          14\n",
       "281628     94183              62         5          77\n",
       "281629     94183            1483         5          14\n",
       "\n",
       "[152092 rows x 4 columns]"
      ]
     },
     "execution_count": 17,
     "metadata": {},
     "output_type": "execute_result"
    }
   ],
   "source": [
    "df_l"
   ]
  },
  {
   "cell_type": "code",
   "execution_count": 18,
   "id": "93085054-cc88-4ca2-9d35-29e65cc43633",
   "metadata": {
    "execution": {
     "iopub.execute_input": "2024-09-02T00:34:39.032234Z",
     "iopub.status.busy": "2024-09-02T00:34:39.032234Z",
     "iopub.status.idle": "2024-09-02T00:34:39.072349Z",
     "shell.execute_reply": "2024-09-02T00:34:39.072349Z",
     "shell.execute_reply.started": "2024-09-02T00:34:39.032234Z"
    }
   },
   "outputs": [],
   "source": [
    "nodes_l = []\n",
    "nodes_l += [f't{i}' for i in df_l.topic_id.unique()]\n",
    "nodes_l += [f'p{i}' for i in df_l.paper_id.unique()]\n",
    "nodes_l += [f'f{i}' for i in df_l.affiliation_id.unique()]\n",
    "nodes_l += [f'c{i}' for i in df_l.country_id.unique()]\n",
    "\n",
    "node2idx_l = {node: idx for idx, node in enumerate(nodes_l)}\n",
    "idx2node_l = {idx: node for node, idx in node2idx_l.items()}"
   ]
  },
  {
   "cell_type": "code",
   "execution_count": 19,
   "id": "e15b5ec4-6e5b-4060-8e06-3491b8130178",
   "metadata": {
    "execution": {
     "iopub.execute_input": "2024-09-02T00:34:43.688759Z",
     "iopub.status.busy": "2024-09-02T00:34:43.687718Z",
     "iopub.status.idle": "2024-09-02T00:34:43.692945Z",
     "shell.execute_reply": "2024-09-02T00:34:43.692945Z",
     "shell.execute_reply.started": "2024-09-02T00:34:43.688759Z"
    }
   },
   "outputs": [],
   "source": [
    "edges = ['topic_paper', 'topic_affiliation', 'topic_country', \n",
    "         'paper_affiliation', 'paper_country', \n",
    "         'affiliation_affiliation', 'affiliation_country',\n",
    "         'country_country']\n",
    "edge2idx = {edge: idx for idx, edge in enumerate(edges)}\n",
    "idx2edge = {idx: edge for edge, idx in edge2idx.items()}"
   ]
  },
  {
   "cell_type": "code",
   "execution_count": 20,
   "id": "c4f0b0e5-5e29-4b8a-9e05-aec8c32917da",
   "metadata": {
    "execution": {
     "iopub.execute_input": "2024-09-02T00:34:44.071890Z",
     "iopub.status.busy": "2024-09-02T00:34:44.071890Z",
     "iopub.status.idle": "2024-09-02T00:34:54.574555Z",
     "shell.execute_reply": "2024-09-02T00:34:54.574555Z",
     "shell.execute_reply.started": "2024-09-02T00:34:44.071890Z"
    }
   },
   "outputs": [],
   "source": [
    "df_paper_aff = df_l[['paper_id', 'affiliation_id']].drop_duplicates()\n",
    "collab = [list(df_paper_aff.loc[df_paper_aff.paper_id==p_id].affiliation_id) for p_id in df_paper_aff.paper_id.unique()]\n",
    "\n",
    "collab_dict = {}\n",
    "for i, c in enumerate(collab):\n",
    "    if len(c)>=2:\n",
    "        for comb in list(combinations(c, 2)):\n",
    "            if comb in collab_dict.keys():\n",
    "                collab_dict[comb] += 1\n",
    "            else:\n",
    "                collab_dict[comb] = 1"
   ]
  },
  {
   "cell_type": "code",
   "execution_count": 21,
   "id": "8f36ee38-5fb5-4d4b-9a73-ee4caebf481c",
   "metadata": {
    "execution": {
     "iopub.execute_input": "2024-09-02T00:34:54.575553Z",
     "iopub.status.busy": "2024-09-02T00:34:54.575553Z",
     "iopub.status.idle": "2024-09-02T00:35:05.267508Z",
     "shell.execute_reply": "2024-09-02T00:35:05.266508Z",
     "shell.execute_reply.started": "2024-09-02T00:34:54.575553Z"
    }
   },
   "outputs": [],
   "source": [
    "df_paper_cntr = df_l[['paper_id', 'country_id']].drop_duplicates()\n",
    "collab = [list(df_paper_cntr.loc[df_paper_cntr.paper_id==p_id].country_id) for p_id in df_paper_cntr.paper_id.unique()]\n",
    "\n",
    "cntr_collab_dict = {}\n",
    "for i, c in enumerate(collab):\n",
    "    if len(c)>=2:\n",
    "        for comb in list(combinations(c, 2)):\n",
    "            if comb in cntr_collab_dict.keys():\n",
    "                cntr_collab_dict[comb] += 1\n",
    "            else:\n",
    "                cntr_collab_dict[comb] = 1"
   ]
  },
  {
   "cell_type": "code",
   "execution_count": 22,
   "id": "7beffe22-9a56-4761-84c1-e02b4cffce42",
   "metadata": {
    "execution": {
     "iopub.execute_input": "2024-09-02T00:35:05.268506Z",
     "iopub.status.busy": "2024-09-02T00:35:05.267508Z",
     "iopub.status.idle": "2024-09-02T00:35:06.527061Z",
     "shell.execute_reply": "2024-09-02T00:35:06.526062Z",
     "shell.execute_reply.started": "2024-09-02T00:35:05.268506Z"
    }
   },
   "outputs": [],
   "source": [
    "network = []\n",
    "for i, (tid, pid) in enumerate(df_l[['topic_id', 'paper_id']].drop_duplicates().values):\n",
    "    network.append([node2idx_l[f't{tid}'], edge2idx['topic_paper'], node2idx_l[f'p{pid}']])\n",
    "    \n",
    "for i, (tid, fid) in enumerate(df_l[['topic_id', 'paper_id', 'affiliation_id']].drop_duplicates()[['topic_id', 'affiliation_id']].values):\n",
    "    network.append([node2idx_l[f't{tid}'], edge2idx['topic_affiliation'], node2idx_l[f'f{fid}']])\n",
    "\n",
    "for i, (tid, cid) in enumerate(df_l[['topic_id', 'paper_id', 'affiliation_id', 'country_id']].drop_duplicates()[['topic_id', 'country_id']].values):\n",
    "    network.append([node2idx_l[f't{tid}'], edge2idx['topic_country'], node2idx_l[f'c{cid}']])\n",
    "    \n",
    "for i, (pid, fid) in enumerate(df_l[['paper_id', 'affiliation_id']].drop_duplicates().values):\n",
    "    network.append([node2idx_l[f'p{pid}'], edge2idx['paper_affiliation'], node2idx_l[f'f{fid}']])\n",
    "    \n",
    "for i, (pid, cid) in enumerate(df_l[['paper_id', 'country_id']].drop_duplicates().values):\n",
    "    network.append([node2idx_l[f'p{pid}'], edge2idx['paper_country'], node2idx_l[f'c{cid}']])\n",
    "\n",
    "for k, v in collab_dict.items():\n",
    "    for _ in range(v):\n",
    "        network.append([node2idx_l[f'f{k[0]}'], edge2idx['affiliation_affiliation'], node2idx_l[f'f{k[1]}']])\n",
    "\n",
    "for i, (fid, cid) in enumerate(df_l[['affiliation_id', 'country_id']].drop_duplicates().values):\n",
    "    network.append([node2idx_l[f'f{fid}'], edge2idx['affiliation_country'], node2idx_l[f'c{cid}']])\n",
    "    \n",
    "for k, v in cntr_collab_dict.items():\n",
    "    for _ in range(v):\n",
    "        network.append([node2idx_l[f'c{k[0]}'], edge2idx['country_country'], node2idx_l[f'c{k[1]}']])"
   ]
  },
  {
   "cell_type": "code",
   "execution_count": 23,
   "id": "b032cc34-0ef7-4f79-8d88-57d0764395f6",
   "metadata": {
    "execution": {
     "iopub.execute_input": "2024-09-02T00:35:06.528059Z",
     "iopub.status.busy": "2024-09-02T00:35:06.527061Z",
     "iopub.status.idle": "2024-09-02T00:35:07.345890Z",
     "shell.execute_reply": "2024-09-02T00:35:07.345890Z",
     "shell.execute_reply.started": "2024-09-02T00:35:06.528059Z"
    }
   },
   "outputs": [],
   "source": [
    "# Data for TransE\n",
    "pd.DataFrame(network).to_csv('../data/network_with_edge_p2.txt', index=False, header=False, sep='\\t')"
   ]
  },
  {
   "cell_type": "code",
   "execution_count": 24,
   "id": "3797a61f-4614-4d3b-b162-bc7204e89b0f",
   "metadata": {
    "execution": {
     "iopub.execute_input": "2024-09-02T00:35:07.346892Z",
     "iopub.status.busy": "2024-09-02T00:35:07.346892Z",
     "iopub.status.idle": "2024-09-02T00:35:08.376574Z",
     "shell.execute_reply": "2024-09-02T00:35:08.376574Z",
     "shell.execute_reply.started": "2024-09-02T00:35:07.346892Z"
    }
   },
   "outputs": [],
   "source": [
    "# Data for DeepWalk and Node2Vec\n",
    "network_wo_links = [[n[0], n[2]] for n in network]\n",
    "pd.DataFrame(network_wo_links).to_csv('../data/network_without_edge_p2.txt', index=False, header=False, sep='\\t')"
   ]
  },
  {
   "cell_type": "markdown",
   "id": "fa9590e2-3b63-4f02-8b17-600f8430a2af",
   "metadata": {},
   "source": [
    "# Network embedding\n",
    "* For the next step, network embedding should be conducted. Followings are network embedding models and Python libraries used in the study.\n",
    "  * DeepWalk (https://github.com/fengduqianhe/GraphEmbedding-master)\n",
    "  * Node2Vec (https://github.com/eliorc/node2vec)\n",
    "  * TransE (https://github.com/pykeen/pykeen)"
   ]
  }
 ],
 "metadata": {
  "kernelspec": {
   "display_name": "Python 3 (ipykernel)",
   "language": "python",
   "name": "python3"
  },
  "language_info": {
   "codemirror_mode": {
    "name": "ipython",
    "version": 3
   },
   "file_extension": ".py",
   "mimetype": "text/x-python",
   "name": "python",
   "nbconvert_exporter": "python",
   "pygments_lexer": "ipython3",
   "version": "3.11.5"
  }
 },
 "nbformat": 4,
 "nbformat_minor": 5
}
